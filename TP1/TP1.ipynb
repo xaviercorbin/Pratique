{
 "cells": [
  {
   "cell_type": "code",
   "execution_count": null,
   "metadata": {},
   "outputs": [],
   "source": [
    "# 5.1 Question 1 - fonctions encrypter et décrypter\n",
    "\n",
    "# Définir le texte à crypter/décrypter, ainsi que la clé\n",
    "clé = \n",
    "clé = \"La vie, c'est comme une bicyclette, il faut avancer pour ne pas perdre l'équilibre.\"\n",
    "message = \"Bonjour Alice, je m'appelle Xavier. Je suis également inscrit au cours TECH20704 cet Automne. J'aime beaucoup ce cours, on y apprend beaucoup de concepts intéressants. En plus, le langage Python qui y est étudié est très populaire et largement utilisé\"\n",
    "\n",
    "# définir \"n\", la longueur de la clé de cryptage\n",
    "n = len(clé)\n",
    "\n"
   ]
  }
 ],
 "metadata": {
  "kernelspec": {
   "display_name": "Python 3",
   "language": "python",
   "name": "python3"
  },
  "language_info": {
   "codemirror_mode": {
    "name": "ipython",
    "version": 3
   },
   "file_extension": ".py",
   "mimetype": "text/x-python",
   "name": "python",
   "nbconvert_exporter": "python",
   "pygments_lexer": "ipython3",
   "version": "3.10.10"
  },
  "orig_nbformat": 4
 },
 "nbformat": 4,
 "nbformat_minor": 2
}
